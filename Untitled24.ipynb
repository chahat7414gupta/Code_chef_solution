{
  "nbformat": 4,
  "nbformat_minor": 0,
  "metadata": {
    "colab": {
      "provenance": [],
      "authorship_tag": "ABX9TyMdLpNg4omUXy/tJ5aDQoot",
      "include_colab_link": true
    },
    "kernelspec": {
      "name": "python3",
      "display_name": "Python 3"
    },
    "language_info": {
      "name": "python"
    }
  },
  "cells": [
    {
      "cell_type": "markdown",
      "metadata": {
        "id": "view-in-github",
        "colab_type": "text"
      },
      "source": [
        "<a href=\"https://colab.research.google.com/github/chahat7414gupta/Code_chef_solution/blob/main/Untitled24.ipynb\" target=\"_parent\"><img src=\"https://colab.research.google.com/assets/colab-badge.svg\" alt=\"Open In Colab\"/></a>"
      ]
    },
    {
      "cell_type": "code",
      "execution_count": null,
      "metadata": {
        "id": "aCual-UaHKGH"
      },
      "outputs": [],
      "source": [
        "t=int(input())\n",
        "for i in range(t):\n",
        "    x,y=map(int,input().split())\n",
        "    if (2*x < 5*y):\n",
        "        print('Candy')\n",
        "    elif (2*x > 5*y):\n",
        "        print('Choclate')\n",
        "    else:\n",
        "        print('Either')"
      ]
    }
  ]
}