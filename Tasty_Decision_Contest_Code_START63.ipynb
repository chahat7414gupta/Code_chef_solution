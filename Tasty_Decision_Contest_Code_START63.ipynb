{
  "nbformat": 4,
  "nbformat_minor": 0,
  "metadata": {
    "colab": {
      "provenance": [],
      "authorship_tag": "ABX9TyPSSayurqeQo/Nm9WOR5RA4",
      "include_colab_link": true
    },
    "kernelspec": {
      "name": "python3",
      "display_name": "Python 3"
    },
    "language_info": {
      "name": "python"
    }
  },
  "cells": [
    {
      "cell_type": "markdown",
      "metadata": {
        "id": "view-in-github",
        "colab_type": "text"
      },
      "source": [
        "<a href=\"https://colab.research.google.com/github/chahat7414gupta/Code_chef_solution/blob/main/Tasty_Decision_Contest_Code_START63.ipynb\" target=\"_parent\"><img src=\"https://colab.research.google.com/assets/colab-badge.svg\" alt=\"Open In Colab\"/></a>"
      ]
    },
    {
      "cell_type": "code",
      "execution_count": null,
      "metadata": {
        "id": "aCual-UaHKGH"
      },
      "outputs": [],
      "source": [
        "test= int(input())\n",
        "\n",
        "for i in range(test):\n",
        "    X,Y=map(int,input().split())\n",
        "    if (2*X==5*Y):\n",
        "        print('Either')\n",
        "    elif(2*X>5*Y):\n",
        "        print('Chocolate')\n",
        "    else:\n",
        "        print('Candy')"
      ]
    }
  ]
}